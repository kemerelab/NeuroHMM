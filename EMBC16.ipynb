{
 "cells": [
  {
   "cell_type": "markdown",
   "metadata": {},
   "source": [
    "# EMBC16.ipynb"
   ]
  },
  {
   "cell_type": "markdown",
   "metadata": {},
   "source": [
    "## EMBC 2016—Scoring Sequences of Hippocampal Activity using Hidden Markov Models"
   ]
  },
  {
   "cell_type": "markdown",
   "metadata": {},
   "source": [
    "Jupyter notebook showing how to generate all the figures and results presented in our EMBC '16 paper."
   ]
  },
  {
   "cell_type": "markdown",
   "metadata": {},
   "source": [
    "### Import packages and initialization"
   ]
  },
  {
   "cell_type": "code",
   "execution_count": 1,
   "metadata": {
    "collapsed": false
   },
   "outputs": [
    {
     "name": "stdout",
     "output_type": "stream",
     "text": [
      "function saveFigure(filename) loaded\n",
      "\n",
      "Tip: to save a figure, call saveFigure(\"path/figure.pdf\")\n"
     ]
    }
   ],
   "source": [
    "import matplotlib.pyplot as plt\n",
    "import numpy as np\n",
    "import pandas as pd\n",
    "import seaborn as sns\n",
    "import sys\n",
    "\n",
    "from IPython.display import display, clear_output\n",
    "\n",
    "sys.path.insert(0, 'helpers')\n",
    "\n",
    "from efunctions import * # load my helper function(s) to save pdf figures, etc.\n",
    "from hc3 import load_data, get_sessions\n",
    "from hmmlearn import hmm # see https://github.com/ckemere/hmmlearn\n",
    "import klabtools as klab\n",
    "import seqtools as sq\n",
    "\n",
    "import importlib\n",
    "\n",
    "importlib.reload(sq) # reload module here only while prototyping...\n",
    "importlib.reload(klab) # reload module here only while prototyping...\n",
    "\n",
    "%matplotlib inline\n",
    "\n",
    "sns.set(rc={'figure.figsize': (12, 4),'lines.linewidth': 1.5})\n",
    "sns.set_style(\"white\")"
   ]
  },
  {
   "cell_type": "markdown",
   "metadata": {},
   "source": [
    "### Define helper function(s)"
   ]
  },
  {
   "cell_type": "code",
   "execution_count": 2,
   "metadata": {
    "collapsed": true
   },
   "outputs": [],
   "source": [
    "from mymap import Map\n",
    "\n",
    "def extract_subsequences_from_binned_spikes(binned_spikes, bins):\n",
    "    data = spikes.data.copy()\n",
    "    boundaries = klab.get_continuous_segments(bins)\n",
    "    \n",
    "    binned = Map()\n",
    "    binned['bin_width'] = binned_spikes.bin_width\n",
    "    binned['data'] = binned_spikes.data[bins,:]\n",
    "    binned['boundaries'] = boundaries\n",
    "    binned['boundaries_fs'] = 1/binned_spikes.bin_width   \n",
    "    binned['sequence_lengths'] = (boundaries[:,1] - boundaries[:,0] + 1).flatten()\n",
    "    \n",
    "    return binned"
   ]
  },
  {
   "cell_type": "markdown",
   "metadata": {},
   "source": [
    "### Load data"
   ]
  },
  {
   "cell_type": "markdown",
   "metadata": {},
   "source": [
    "Here we consider lin2 data for gor01 on the first recording day (6-7-2006), since this session had the most units (91) of all the gor01 sessions, and lin2 has position data, whereas lin1 only has partial position data."
   ]
  },
  {
   "cell_type": "code",
   "execution_count": 3,
   "metadata": {
    "collapsed": false
   },
   "outputs": [
    {
     "name": "stdout",
     "output_type": "stream",
     "text": [
      "reading position data from '/home/etienne/Dropbox/neoReader/Data/gor01-6-7/2006-6-7_16-40-19/2006-6-7_16-40-19.whl'\n"
     ]
    }
   ],
   "source": [
    "datadirs = ['/home/etienne/Dropbox/neoReader/Data',\n",
    "            'C:/etienne/Dropbox/neoReader/Data',\n",
    "            '/Users/etienne/Dropbox/neoReader/Data']\n",
    "\n",
    "fileroot = next( (dir for dir in datadirs if os.path.isdir(dir)), None)\n",
    "\n",
    "animal = 'gor01'; month,day = (6,7); session = '16-40-19' # 91 units\n",
    "\n",
    "spikes = load_data(fileroot=fileroot, datatype='spikes',animal=animal, session=session, month=month, day=day, fs=32552, verbose=False)\n",
    "eeg = load_data(fileroot=fileroot, datatype='eeg', animal=animal, session=session, month=month, day=day,channels=[0,1,2], fs=1252, starttime=0, verbose=False)\n",
    "posdf = load_data(fileroot=fileroot, datatype='pos',animal=animal, session=session, month=month, day=day, verbose=False)\n",
    "speed = klab.get_smooth_speed(posdf,fs=60,th=8,cutoff=0.5,showfig=False,verbose=False)"
   ]
  },
  {
   "cell_type": "markdown",
   "metadata": {},
   "source": [
    "### Model selection"
   ]
  },
  {
   "cell_type": "markdown",
   "metadata": {},
   "source": [
    "Here we split our data into train, test, and validation sets. We perform model selection by training on our train set, and evaluating the model on data from our validation set (the test set is never touched by the model!). We then look at the log likelihood (normalized for sequence length) for a range of number of model states, and we choose the smallest number of model states after which the log likelihood does not seem to improve on the validation set. This is akin to cross validation.\n",
    "\n",
    "We also plot the log likelihood of the test data, where it is important to note that these results did not influence the training or decision for the number of states in any way, but we choose to show it merely to demonstrate that the test and validation sets have similar _shapes_, as expected."
   ]
  },
  {
   "cell_type": "code",
   "execution_count": 4,
   "metadata": {
    "collapsed": false
   },
   "outputs": [
    {
     "name": "stdout",
     "output_type": "stream",
     "text": [
      "binning data into 20703 x 125.0 ms temporal bins...\n"
     ]
    }
   ],
   "source": [
    "## bin ALL spikes\n",
    "ds = 0.125 # bin spikes into 125 ms bins (theta-cycle inspired)\n",
    "binned_spikes_all = klab.bin_spikes(spikes.data, ds=ds, fs=spikes.samprate, verbose=True)\n",
    "\n",
    "## identify boundaries for running (active) epochs and then bin those observations into separate sequences:\n",
    "runbdries = klab.get_boundaries_from_bins(eeg.samprate,bins=speed.active_bins,bins_fs=60)\n",
    "binned_spikes_bvr = klab.bin_spikes(spikes.data, fs=spikes.samprate, boundaries=runbdries, boundaries_fs=eeg.samprate, ds=ds)"
   ]
  },
  {
   "cell_type": "code",
   "execution_count": 5,
   "metadata": {
    "collapsed": false
   },
   "outputs": [
    {
     "name": "stdout",
     "output_type": "stream",
     "text": [
      "90 sequences being stacked...\n",
      "Total sequence length: 1938 bins, each of width 0.125 seconds\n",
      "Successfully stacked 90 sequences for a total of 242.25 seconds of data.\n",
      "Only one sequence in data; so data is already in stacked format...\n"
     ]
    }
   ],
   "source": [
    "## stack data for hmmlearn:\n",
    "seq_stk_bvr = sq.data_stack(binned_spikes_bvr, verbose=True)\n",
    "seq_stk_all = sq.data_stack(binned_spikes_all, verbose=True)\n",
    "\n",
    "## split data into train, test, and validation sets:\n",
    "tr_b,vl_b,ts_b = sq.data_split(seq_stk_bvr, tr=60, vl=20, ts=20, randomseed = 0, verbose=False)"
   ]
  },
  {
   "cell_type": "code",
   "execution_count": 6,
   "metadata": {
    "collapsed": false
   },
   "outputs": [
    {
     "name": "stdout",
     "output_type": "stream",
     "text": [
      "Done!\n"
     ]
    }
   ],
   "source": [
    "Smax = 40\n",
    "S = np.arange(start=5,step=1,stop=Smax+1)\n",
    "\n",
    "tr_ll = []\n",
    "vl_ll = []\n",
    "ts_ll = []\n",
    "\n",
    "for num_states in S:\n",
    "    clear_output(wait=True)\n",
    "    print('Training and evaluating {}-state hmm'.format(num_states))\n",
    "    sys.stdout.flush()\n",
    "    myhmm = sq.hmm_train(tr_b, num_states=num_states, n_iter=30, verbose=False)\n",
    "    tr_ll.append( (np.array(list(sq.hmm_eval(myhmm, tr_b)))/tr_b.sequence_lengths ).mean())\n",
    "    vl_ll.append( (np.array(list(sq.hmm_eval(myhmm, vl_b)))/vl_b.sequence_lengths ).mean())\n",
    "    ts_ll.append( (np.array(list(sq.hmm_eval(myhmm, ts_b)))/ts_b.sequence_lengths ).mean())\n",
    "\n",
    "clear_output(wait=True)\n",
    "print('Done!')\n",
    "sys.stdout.flush()"
   ]
  },
  {
   "cell_type": "code",
   "execution_count": 7,
   "metadata": {
    "collapsed": false
   },
   "outputs": [
    {
     "data": {
      "text/plain": [
       "(5, 40)"
      ]
     },
     "execution_count": 7,
     "metadata": {},
     "output_type": "execute_result"
    },
    {
     "data": {
      "image/png": "[encoded data removed]",
      "text/plain": [
       "<matplotlib.figure.Figure at 0x7faed54fd9e8>"
      ]
     },
     "metadata": {},
     "output_type": "display_data"
    }
   ],
   "source": [
    "num_states = 25\n",
    "\n",
    "fig = plt.figure(1, figsize=(5, 3))\n",
    "ax = fig.add_subplot(111)\n",
    "    \n",
    "ax.annotate('plateau at approx ' + str(num_states), xy=(num_states, -38.5), xycoords='data',\n",
    "                xytext=(0, -30), textcoords='offset points',\n",
    "                arrowprops=dict(arrowstyle=\"->\",\n",
    "                                connectionstyle=\"angle3,angleA=0,angleB=-90\", lw=1)\n",
    "                )\n",
    "\n",
    "ax.plot(S, tr_ll, lw=2, linestyle='dotted', label='train', color='k')\n",
    "ax.plot(S, ts_ll, lw=2, linestyle='dashed', label='test', color='k')\n",
    "ax.plot(S, vl_ll, lw=2, linestyle='solid', label='validation', color='mediumseagreen')\n",
    "ax.legend(loc=2)\n",
    "ax.set_xlabel('number of states')\n",
    "ax.set_ylabel('normalized log likelihood')\n",
    "\n",
    "ax.axhspan(-38.5, -37.5, facecolor='0.75', alpha=0.25)\n",
    "ax.set_xlim([5, S[-1]])\n",
    "\n",
    "#saveFigure('figures/modelselection.pdf')"
   ]
  },
  {
   "cell_type": "markdown",
   "metadata": {},
   "source": [
    "### Model validation"
   ]
  },
  {
   "cell_type": "markdown",
   "metadata": {},
   "source": [
    "Here we take a look at the states that were learned by the model, and we show that even though both place cells and interneurons (which do not have place-selective firing fields) have been used to train the model, the model effectively learned only place-specific and relevant states, which we can think of as virtual place cells."
   ]
  },
  {
   "cell_type": "code",
   "execution_count": 8,
   "metadata": {
    "collapsed": false
   },
   "outputs": [
    {
     "name": "stdout",
     "output_type": "stream",
     "text": [
      "binning data into 20703 x 125.0 ms temporal bins...\n",
      "Splitting 90 sequences into train, validation, and test sets...\n",
      "54 sequences being stacked...\n",
      "Total sequence length: 1135 bins, each of width 0.125 seconds\n",
      "Successfully stacked 54 sequences for a total of 141.88 seconds of data.\n",
      "9 sequences being stacked...\n",
      "Total sequence length: 170 bins, each of width 0.125 seconds\n",
      "Successfully stacked 9 sequences for a total of 21.25 seconds of data.\n",
      "27 sequences being stacked...\n",
      "Total sequence length: 591 bins, each of width 0.125 seconds\n",
      "Successfully stacked 27 sequences for a total of 73.88 seconds of data.\n",
      "Stacked data split into train (60.0 %), validation (10.0 %) and test (30.0 %) sequences.\n"
     ]
    }
   ],
   "source": [
    "## bin ALL spikes\n",
    "ds = 0.125 # bin spikes into 125 ms bins (theta-cycle inspired)\n",
    "binned_spikes = klab.bin_spikes(spikes.data, ds=ds, fs=spikes.samprate, verbose=True)\n",
    "\n",
    "centerx = (np.array(posdf['x1']) + np.array(posdf['x2']))/2\n",
    "centery = (np.array(posdf['y1']) + np.array(posdf['y2']))/2\n",
    "\n",
    "tend = len(speed.data)/speed.samprate # end in seconds\n",
    "time_axis = np.arange(0,len(speed.data))/speed.samprate\n",
    "speed_125, tvel_125 = klab.resample_velocity(velocity=speed.data,t_bin=ds,tvel=time_axis,t0=0,tend=tend)\n",
    "truepos_125 = np.interp(np.arange(0,len(binned_spikes.data))*ds,time_axis,centerx)\n",
    "\n",
    "# get bins where rat was running faster than thresh units per second\n",
    "runidx_125 = np.where(speed_125>8)[0]\n",
    "seq_stk_run_125 = extract_subsequences_from_binned_spikes(binned_spikes,runidx_125)\n",
    "\n",
    "## split data into train, test, and validation sets:\n",
    "tr_b2,vl_b2,ts_b2 = sq.data_split(seq_stk_run_125, tr=60, vl=10, ts=30, randomseed = 0, verbose=True)\n",
    "\n",
    "## train HMM on active behavioral data; training set (with a fixed, arbitrary number of states for now):\n",
    "num_states = 25\n",
    "myhmm2 = sq.hmm_train(tr_b2, num_states=num_states, n_iter=50, verbose=False)"
   ]
  },
  {
   "cell_type": "code",
   "execution_count": 9,
   "metadata": {
    "collapsed": true
   },
   "outputs": [],
   "source": [
    "###########################################################3\n",
    "stacked_data = seq_stk_run_125\n",
    "###########################################################3\n",
    "\n",
    "x0=0; xl=100; num_pos_bins=50\n",
    "xx_left = np.linspace(x0,xl,num_pos_bins+1)\n",
    "num_sequences = len(stacked_data.sequence_lengths)\n",
    "num_states = myhmm2.n_components\n",
    "state_pos = np.zeros((num_states, num_pos_bins)) # place fields\n",
    "\n",
    "for seq_id in np.arange(0,num_sequences):\n",
    "    tmpseqbdries = [0]; tmpseqbdries.extend(np.cumsum(stacked_data.sequence_lengths).tolist());\n",
    "    obs = stacked_data.data[tmpseqbdries[seq_id]:tmpseqbdries[seq_id+1],:]\n",
    "    ll, pp = myhmm2.score_samples(obs)\n",
    "    xx = truepos_125[stacked_data.boundaries[seq_id,0]:stacked_data.boundaries[seq_id,1]+1]\n",
    "    digitized = np.digitize(xx, xx_left) - 1 # spatial bin numbers\n",
    "    for ii, ppii in enumerate(pp):\n",
    "        state_pos[:,digitized[ii]] += np.transpose(ppii)"
   ]
  },
  {
   "cell_type": "code",
   "execution_count": 10,
   "metadata": {
    "collapsed": true
   },
   "outputs": [],
   "source": [
    "x0=0; xl=100; num_pos_bins=50\n",
    "xx_mid = np.linspace(x0,xl,num_pos_bins+1)[:-1]; xx_mid += (xx_mid[1]-xx_mid[0])/2\n",
    "\n",
    "# normalize place fields:\n",
    "placefields = state_pos.copy()\n",
    "colsum = np.tile(placefields.sum(axis=1),(num_pos_bins,1)).T\n",
    "placefields = placefields/colsum\n",
    "\n",
    "# determine mean for each place field:\n",
    "pfmeans = (np.tile(xx_mid,(num_states,1))*placefields).sum(axis=1)\n",
    "pfmodes = xx_mid[placefields.argmax(axis=1)]\n",
    "\n",
    "# order place fields by mean or mode:\n",
    "mean_order = pfmeans.argsort()\n",
    "mode_order = pfmodes.argsort()"
   ]
  },
  {
   "cell_type": "code",
   "execution_count": 11,
   "metadata": {
    "collapsed": false
   },
   "outputs": [
    {
     "data": {
      "text/plain": [
       "<matplotlib.text.Text at 0x7faec39b7fd0>"
      ]
     },
     "execution_count": 11,
     "metadata": {},
     "output_type": "execute_result"
    },
    {
     "data": {
      "image/png": "[encoded data removed]",
      "text/plain": [
       "<matplotlib.figure.Figure at 0x7faed00aa9b0>"
      ]
     },
     "metadata": {},
     "output_type": "display_data"
    }
   ],
   "source": [
    "fig, axes = plt.subplots(num_states, 1, figsize=(5, 7), sharey=True)\n",
    "\n",
    "for ii, ax in enumerate(axes):\n",
    "    #ax.plot(xx_mid,placefields[mode_order[ii],:])\n",
    "    ax.fill_between(xx_mid, 0, placefields[mode_order[ii]], color='gray')\n",
    "    ax.set_ylabel(mode_order[ii])\n",
    "    ax.set_xticklabels([])\n",
    "    ax.set_yticklabels([])\n",
    "    ax.set_xlim([0, 100])\n",
    "    ax.spines['right'].set_visible(False)\n",
    "    ax.spines['top'].set_visible(False)\n",
    "    ax.spines['bottom'].set_visible(False)\n",
    "    ax.spines['left'].set_visible(False)\n",
    "#fig.suptitle('normalized place fields sorted by peak location (left) and mean location (right)', y=0.92, fontsize=14)\n",
    "ax.set_xticklabels(['0','20', '40', '60', '80', '100'])\n",
    "ax.set_xlabel('position')\n",
    "fig.text(0.0, 0.5, 'normalized firing rate for state (virtual place cell)', va='center', rotation='vertical')\n",
    "#saveFigure('figures/placefields.pdf')"
   ]
  },
  {
   "cell_type": "markdown",
   "metadata": {},
   "source": [
    "### Decoding accuracy"
   ]
  },
  {
   "cell_type": "code",
   "execution_count": 12,
   "metadata": {
    "collapsed": false
   },
   "outputs": [
    {
     "name": "stdout",
     "output_type": "stream",
     "text": [
      "mean decoding error: 4.764\n",
      "mode decoding error: 5.849\n",
      "substate decoding error: 4.313\n"
     ]
    },
    {
     "data": {
      "image/png": "[encoded data removed]",
      "text/plain": [
       "<matplotlib.figure.Figure at 0x7faed0092fd0>"
      ]
     },
     "metadata": {},
     "output_type": "display_data"
    }
   ],
   "source": [
    "fig, ax2 = plt.subplots(1, 1, figsize=(5, 3))\n",
    "\n",
    "tmpseqbdries = [0]; tmpseqbdries.extend(np.cumsum(ts_b2.sequence_lengths).tolist());\n",
    "\n",
    "seq_id = 14\n",
    "\n",
    "obs = ts_b2.data[tmpseqbdries[seq_id]:tmpseqbdries[seq_id+1],:]\n",
    "ll, pp = myhmm2.score_samples(obs)\n",
    "seq_len = len(obs)\n",
    "\n",
    "mean_pos = pfmeans[pp.argmax(axis=1)]\n",
    "mode_pos = pfmodes[pp.argmax(axis=1)]\n",
    "substate_pos = (pp*np.tile(pfmeans,(seq_len,1))).sum(axis=1)\n",
    "\n",
    "# true position:\n",
    "bb = ts_b2.boundaries[seq_id,:] # inclusive\n",
    "true_pos = truepos_125[bb[0]:bb[1]+1]\n",
    "\n",
    "#ax2.plot(mean_pos, '.', markersize=7, label='mean decoded', linestyle='dashed', linewidth=1.5, color='k')\n",
    "#ax2.plot(mode_pos, '.', markersize=7, label='mode decoded', linestyle='dotted', linewidth=1.5, color='k')\n",
    "ax2.plot(substate_pos,'.',markersize=7, label='decoded position', linestyle='solid', color='mediumseagreen', linewidth=1.5)\n",
    "ax2.plot(true_pos,'.',markersize=7, label='true position', linestyle='dotted', color='black', linewidth=1.5)\n",
    "\n",
    "ax2.set_ylim([0,100])\n",
    "ax2.legend(loc='upper left')\n",
    "ax2.set_ylabel('position')\n",
    "ax2.set_xlabel('time bin')\n",
    "#ax2.set_title('sequence decoding, seq {}'.format(seq_id), y=1.03)\n",
    "\n",
    "errors = [np.sqrt(((true_pos - mean_pos)**2).mean()), np.sqrt(((true_pos -mode_pos)**2).mean()), np.sqrt(((true_pos - substate_pos)**2).mean())]\n",
    "print('mean decoding error: {:2.3f}\\nmode decoding error: {:2.3f}\\nsubstate decoding error: {:2.3f}'.format(errors[0],errors[1],errors[2]))\n",
    "\n",
    "#saveFigure('figures/decoding.pdf')"
   ]
  },
  {
   "cell_type": "markdown",
   "metadata": {},
   "source": [
    "### State transition probability matrix"
   ]
  },
  {
   "cell_type": "markdown",
   "metadata": {},
   "source": [
    "### Scoring sequences of neural activity"
   ]
  },
  {
   "cell_type": "code",
   "execution_count": 13,
   "metadata": {
    "collapsed": true
   },
   "outputs": [],
   "source": [
    "def get_replay_score_from_hmmlearn( hmmlearnModel, pth, obs ):\n",
    "    # pth is a list of state indices, obs is a list (seq len) of lists (num cells) of nparray(rate)\n",
    "    #P = np.exp(ymModel.dense_transition_matrix())\n",
    "    logP = np.log(hmmlearnModel.transmat_)\n",
    "    logPseq = 0\n",
    "    logPctx = 0\n",
    "    for ii in np.arange( 0, len(pth)-1 ):\n",
    "        # add transition probability to sequence score:\n",
    "        logPseq += logP[pth[ii],pth[ii+1]]\n",
    "        # add memoryless observation likelihood to contextual score:\n",
    "        logPctx += hmmlearnModel.score(obs[ii,:].reshape(1,-1)) # memoryless map probability per symbol FFFB! What about prior state probs?\n",
    "        #logPctx += np.log(hmmlearnModel.predict_proba(obs[ii,:])[0][hmmlearnModel.decode(obs[ii,:])[1][0]]) # memoryless map probability per symbol FFFB! What about prior state probs?model.predict_proba(obs[ii-1,:])[0][model.decode(obs[ii-1,:])[1][0]]\n",
    "        #print(logPctx)\n",
    "    logPctx += hmmlearnModel.score(obs[-1,:].reshape(1,-1)) # memoryless map probability per symbol\n",
    "    #logPctx += np.log(hmmlearnModel.predict_proba(obs[-1,:])[0][hmmlearnModel.decode(obs[-1,:])[1][0]]) # memoryless map probability per symbol FFFB! What about prior state probs?model.predict_proba(obs[ii-1,:])[0][model.decode(obs[ii-1,:])[1][0]]\n",
    "    \n",
    "    return logPseq/len(pth), logPctx/len(pth)"
   ]
  },
  {
   "cell_type": "code",
   "execution_count": 14,
   "metadata": {
    "collapsed": false
   },
   "outputs": [],
   "source": [
    "# compute replay scores on all candidate events, and compare to trajectory shuffle:\n",
    "from random import shuffle\n",
    "\n",
    "#data_to_test = seq_stk_bvr\n",
    "data_to_test = seq_stk_run_125\n",
    "#data_to_test = ts_b2\n",
    "\n",
    "myStackedDataSeq = data_to_test.data.copy()\n",
    "myStackedSeqLengths = data_to_test.sequence_lengths.copy()\n",
    "\n",
    "scores_seq2 = np.zeros(len(myStackedSeqLengths))\n",
    "scores_ctx2 = np.zeros(len(myStackedSeqLengths))\n",
    "scores_shfl_seq2 = np.zeros(len(myStackedSeqLengths))\n",
    "scores_shfl_ctx2 = np.zeros(len(myStackedSeqLengths))\n",
    "\n",
    "ulen2 = []\n",
    "\n",
    "seqlimits = np.cumsum(np.array([0] + list(myStackedSeqLengths)))\n",
    "for ee in np.arange(0,len(myStackedSeqLengths)):\n",
    "    obs = myStackedDataSeq[seqlimits[ee]:seqlimits[ee+1],:]\n",
    "    lp, pth = myhmm2.decode(obs,algorithm='viterbi')\n",
    "    trj_shfl_idx = np.arange(0,len(pth))\n",
    "    shuffle(trj_shfl_idx)\n",
    "    pth_trj_shfl = [pth[i] for i in trj_shfl_idx]\n",
    "    obs_trj_shfl = np.array([obs[i] for i in trj_shfl_idx])\n",
    "    \n",
    "    scores_seq2[ee], scores_ctx2[ee] = get_replay_score_from_hmmlearn(myhmm2, pth, obs)\n",
    "    scores_shfl_seq2[ee], scores_shfl_ctx2[ee] = get_replay_score_from_hmmlearn(myhmm2, pth_trj_shfl, obs_trj_shfl)\n",
    "    #print(ee)\n",
    "    \n",
    "    ulen2.append(len(set(pth))) # number of unique states visited in path\n",
    "    \n",
    "slen2 = myStackedSeqLengths # sequence lengths\n"
   ]
  },
  {
   "cell_type": "code",
   "execution_count": 15,
   "metadata": {
    "collapsed": false
   },
   "outputs": [
    {
     "name": "stdout",
     "output_type": "stream",
     "text": [
      "-0.803326219116\n",
      "-22.8674912424\n",
      "Average number of unique states visited per sequence: 7.011111111111111\n"
     ]
    }
   ],
   "source": [
    "print(np.array(scores_seq2).mean())\n",
    "print(np.array(scores_shfl_seq2).mean())\n",
    "print(\"Average number of unique states visited per sequence: {0}\".format(np.array(ulen2).mean()))"
   ]
  },
  {
   "cell_type": "code",
   "execution_count": 16,
   "metadata": {
    "collapsed": false
   },
   "outputs": [
    {
     "data": {
      "text/plain": [
       "<matplotlib.legend.Legend at 0x7faec3702b70>"
      ]
     },
     "execution_count": 16,
     "metadata": {},
     "output_type": "execute_result"
    },
    {
     "data": {
      "image/png": "[encoded data removed]",
      "text/plain": [
       "<matplotlib.figure.Figure at 0x7faec37ea908>"
      ]
     },
     "metadata": {},
     "output_type": "display_data"
    }
   ],
   "source": [
    "f, ax = plt.subplots(1,1, figsize=(5, 3))\n",
    "\n",
    "ax.scatter(np.exp(scores_seq2)*np.array(ulen2), scores_ctx2, s=80, c='mediumseagreen', alpha=0.3, marker='o',facecolors='none', edgecolors='gray',linewidth=1, label='candidate sequences')\n",
    "ax.scatter(np.exp(scores_shfl_seq2)*np.array(ulen2), scores_shfl_ctx2, c='k', s=80, marker='.',facecolors='none', edgecolors='none',linewidth=1, label='trajectory shuffled')\n",
    "ax.axvline(x=1, linewidth=1, color = 'gray', linestyle='dotted')\n",
    "ax.set_xlabel('$\\exp(q_{seq})$')\n",
    "ax.set_ylabel('$q_{ctx}$')\n",
    "ax.legend(loc='lower right', fancybox=True, framealpha=0.5, frameon=True)\n",
    "#ax.set_title('novel sequence score on subsequences of hc-3 data')\n",
    "\n",
    "#saveFigure(\"figures/replay-score.pdf\")"
   ]
  },
  {
   "cell_type": "code",
   "execution_count": 17,
   "metadata": {
    "collapsed": false
   },
   "outputs": [],
   "source": [
    "# compute replay scores on all candidate events, and compare to trajectory shuffle:\n",
    "from random import shuffle\n",
    "\n",
    "#data_to_test = seq_stk_bvr\n",
    "#data_to_test = seq_stk_run_125\n",
    "data_to_test = ts_b2\n",
    "\n",
    "myStackedDataSeq = data_to_test.data.copy()\n",
    "myStackedSeqLengths = data_to_test.sequence_lengths.copy()\n",
    "\n",
    "scores_seq2 = np.zeros(len(myStackedSeqLengths))\n",
    "scores_ctx2 = np.zeros(len(myStackedSeqLengths))\n",
    "scores_shfl_seq2 = np.zeros(len(myStackedSeqLengths))\n",
    "scores_shfl_ctx2 = np.zeros(len(myStackedSeqLengths))\n",
    "\n",
    "ulen2 = []\n",
    "\n",
    "seqlimits = np.cumsum(np.array([0] + list(myStackedSeqLengths)))\n",
    "for ee in np.arange(0,len(myStackedSeqLengths)):\n",
    "    obs = myStackedDataSeq[seqlimits[ee]:seqlimits[ee+1],:]\n",
    "    lp, pth = myhmm2.decode(obs,algorithm='viterbi')\n",
    "    trj_shfl_idx = np.arange(0,len(pth))\n",
    "    shuffle(trj_shfl_idx)\n",
    "    pth_trj_shfl = [pth[i] for i in trj_shfl_idx]\n",
    "    obs_trj_shfl = np.array([obs[i] for i in trj_shfl_idx])\n",
    "    \n",
    "    scores_seq2[ee], scores_ctx2[ee] = get_replay_score_from_hmmlearn(myhmm2, pth, obs)\n",
    "    scores_shfl_seq2[ee], scores_shfl_ctx2[ee] = get_replay_score_from_hmmlearn(myhmm2, pth_trj_shfl, obs_trj_shfl)\n",
    "    #print(ee)\n",
    "    \n",
    "    ulen2.append(len(set(pth))) # number of unique states visited in path\n",
    "    \n",
    "slen2 = myStackedSeqLengths # sequence lengths\n"
   ]
  },
  {
   "cell_type": "code",
   "execution_count": 18,
   "metadata": {
    "collapsed": false
   },
   "outputs": [
    {
     "data": {
      "text/plain": [
       "<matplotlib.legend.Legend at 0x7faec359ef60>"
      ]
     },
     "execution_count": 18,
     "metadata": {},
     "output_type": "execute_result"
    },
    {
     "data": {
      "image/png": "[encoded data removed]",
      "text/plain": [
       "<matplotlib.figure.Figure at 0x7faec35edbe0>"
      ]
     },
     "metadata": {},
     "output_type": "display_data"
    }
   ],
   "source": [
    "f, ax = plt.subplots(1,1, figsize=(5, 3))\n",
    "\n",
    "ax.scatter(np.exp(scores_seq2)*np.array(ulen2), scores_ctx2, s=80, c='mediumseagreen', alpha=0.6, marker='o',facecolors='none', edgecolors='gray',linewidth=1, label='candidate sequences')\n",
    "ax.scatter(np.exp(scores_shfl_seq2)*np.array(ulen2), scores_shfl_ctx2, c='k', s=80, marker='.',facecolors='none', edgecolors='none',linewidth=1, label='trajectory shuffled')\n",
    "ax.axvline(x=1, linewidth=1, color = 'gray', linestyle='dotted')\n",
    "ax.set_xlabel('$\\exp(q_{seq})$')\n",
    "ax.set_ylabel('$q_{ctx}$')\n",
    "ax.legend(loc='lower right', fancybox=True, framealpha=0.5, frameon=True)\n",
    "#ax.set_title('novel sequence score on subsequences of hc-3 data')\n",
    "\n",
    "#saveFigure(\"figures/replay-score-test-only.pdf\")"
   ]
  }
 ],
 "metadata": {
  "kernelspec": {
   "display_name": "Python 3",
   "language": "python",
   "name": "python3"
  },
  "language_info": {
   "codemirror_mode": {
    "name": "ipython",
    "version": 3
   },
   "file_extension": ".py",
   "mimetype": "text/x-python",
   "name": "python",
   "nbconvert_exporter": "python",
   "pygments_lexer": "ipython3",
   "version": "3.4.4"
  }
 },
 "nbformat": 4,
 "nbformat_minor": 0
}
